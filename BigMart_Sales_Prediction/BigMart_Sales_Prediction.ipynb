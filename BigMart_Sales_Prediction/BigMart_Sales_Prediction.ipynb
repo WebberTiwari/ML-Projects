{
 "cells": [
  {
   "cell_type": "markdown",
   "id": "0f0712f5",
   "metadata": {},
   "source": [
    "# 🛒 BigMart Sales Prediction using XGBoost Regressor\n",
    "\n",
    "## 📌 Project Overview\n",
    "The objective of this project is to develop a regression model that can accurately predict the sales of various products at BigMart outlets based on historical sales data and product features.\n",
    "\n",
    "This problem is inspired by a real-world retail scenario where understanding sales patterns can help optimize inventory, plan marketing strategies, and improve decision-making.\n",
    "\n",
    "---\n",
    "\n",
    "## 🎯 Goal\n",
    "To build a robust machine learning model using the **XGBoost Regressor**, which can:\n",
    "- Learn complex non-linear relationships between features and sales.\n",
    "- Handle missing data and categorical variables efficiently.\n",
    "- Generalize well to unseen product-store combinations.\n",
    "\n",
    "---\n",
    "\n",
    "## 📚 Key Steps in the Notebook\n",
    "- **Data Cleaning & Preprocessing**\n",
    "- **Exploratory Data Analysis (EDA)**\n",
    "- **Feature Engineering**\n",
    "- **Model Building with XGBoost**\n",
    "- **Model Evaluation using RMSE**\n",
    "- **Prediction on Test Data**\n",
    "\n",
    "---\n",
    "\n",
    "## 🧠 Tech Stack\n",
    "- Python\n",
    "- Pandas, NumPy\n",
    "- Matplotlib, Seaborn (for EDA)\n",
    "- Scikit-learn\n",
    "- XGBoost\n",
    "\n",
    "---\n",
    "\n",
    "## 📊 Dataset\n",
    "The dataset contains information about:\n",
    "- Item characteristics (type, weight, MRP, etc.)\n",
    "- Store details (type, size, location)\n",
    "- Historical sales data\n",
    "\n",
    "---\n",
    "\n"
   ]
  },
  {
   "cell_type": "code",
   "execution_count": 289,
   "id": "b6ae6676",
   "metadata": {},
   "outputs": [],
   "source": [
    "#importing Dependencies\n",
    "import numpy as np\n",
    "import pandas as pd\n",
    "import matplotlib.pyplot as plt\n",
    "import seaborn as sns\n",
    "from sklearn.model_selection import train_test_split\n",
    "from xgboost import XGBRegressor\n",
    "from sklearn.preprocessing import LabelEncoder\n",
    "from sklearn import metrics\n"
   ]
  },
  {
   "cell_type": "markdown",
   "id": "0f01ec89",
   "metadata": {},
   "source": [
    "## Data Preprocessing"
   ]
  },
  {
   "cell_type": "code",
   "execution_count": 290,
   "id": "128f4a3f",
   "metadata": {},
   "outputs": [],
   "source": [
    "#Creating Pandas DataFrame from the CSv File\n",
    "\n",
    "sale_data=pd.read_csv('BigMart.csv')"
   ]
  },
  {
   "cell_type": "code",
   "execution_count": 291,
   "id": "b9dbbfd5",
   "metadata": {},
   "outputs": [
    {
     "data": {
      "text/html": [
       "<div>\n",
       "<style scoped>\n",
       "    .dataframe tbody tr th:only-of-type {\n",
       "        vertical-align: middle;\n",
       "    }\n",
       "\n",
       "    .dataframe tbody tr th {\n",
       "        vertical-align: top;\n",
       "    }\n",
       "\n",
       "    .dataframe thead th {\n",
       "        text-align: right;\n",
       "    }\n",
       "</style>\n",
       "<table border=\"1\" class=\"dataframe\">\n",
       "  <thead>\n",
       "    <tr style=\"text-align: right;\">\n",
       "      <th></th>\n",
       "      <th>Item_Identifier</th>\n",
       "      <th>Item_Weight</th>\n",
       "      <th>Item_Fat_Content</th>\n",
       "      <th>Item_Visibility</th>\n",
       "      <th>Item_Type</th>\n",
       "      <th>Item_MRP</th>\n",
       "      <th>Outlet_Identifier</th>\n",
       "      <th>Outlet_Establishment_Year</th>\n",
       "      <th>Outlet_Size</th>\n",
       "      <th>Outlet_Location_Type</th>\n",
       "      <th>Outlet_Type</th>\n",
       "      <th>Item_Outlet_Sales</th>\n",
       "    </tr>\n",
       "  </thead>\n",
       "  <tbody>\n",
       "    <tr>\n",
       "      <th>0</th>\n",
       "      <td>FDA15</td>\n",
       "      <td>9.30</td>\n",
       "      <td>Low Fat</td>\n",
       "      <td>0.016047</td>\n",
       "      <td>Dairy</td>\n",
       "      <td>249.8092</td>\n",
       "      <td>OUT049</td>\n",
       "      <td>1999</td>\n",
       "      <td>Medium</td>\n",
       "      <td>Tier 1</td>\n",
       "      <td>Supermarket Type1</td>\n",
       "      <td>3735.1380</td>\n",
       "    </tr>\n",
       "    <tr>\n",
       "      <th>1</th>\n",
       "      <td>DRC01</td>\n",
       "      <td>5.92</td>\n",
       "      <td>Regular</td>\n",
       "      <td>0.019278</td>\n",
       "      <td>Soft Drinks</td>\n",
       "      <td>48.2692</td>\n",
       "      <td>OUT018</td>\n",
       "      <td>2009</td>\n",
       "      <td>Medium</td>\n",
       "      <td>Tier 3</td>\n",
       "      <td>Supermarket Type2</td>\n",
       "      <td>443.4228</td>\n",
       "    </tr>\n",
       "    <tr>\n",
       "      <th>2</th>\n",
       "      <td>FDN15</td>\n",
       "      <td>17.50</td>\n",
       "      <td>Low Fat</td>\n",
       "      <td>0.016760</td>\n",
       "      <td>Meat</td>\n",
       "      <td>141.6180</td>\n",
       "      <td>OUT049</td>\n",
       "      <td>1999</td>\n",
       "      <td>Medium</td>\n",
       "      <td>Tier 1</td>\n",
       "      <td>Supermarket Type1</td>\n",
       "      <td>2097.2700</td>\n",
       "    </tr>\n",
       "    <tr>\n",
       "      <th>3</th>\n",
       "      <td>FDX07</td>\n",
       "      <td>19.20</td>\n",
       "      <td>Regular</td>\n",
       "      <td>0.000000</td>\n",
       "      <td>Fruits and Vegetables</td>\n",
       "      <td>182.0950</td>\n",
       "      <td>OUT010</td>\n",
       "      <td>1998</td>\n",
       "      <td>NaN</td>\n",
       "      <td>Tier 3</td>\n",
       "      <td>Grocery Store</td>\n",
       "      <td>732.3800</td>\n",
       "    </tr>\n",
       "    <tr>\n",
       "      <th>4</th>\n",
       "      <td>NCD19</td>\n",
       "      <td>8.93</td>\n",
       "      <td>Low Fat</td>\n",
       "      <td>0.000000</td>\n",
       "      <td>Household</td>\n",
       "      <td>53.8614</td>\n",
       "      <td>OUT013</td>\n",
       "      <td>1987</td>\n",
       "      <td>High</td>\n",
       "      <td>Tier 3</td>\n",
       "      <td>Supermarket Type1</td>\n",
       "      <td>994.7052</td>\n",
       "    </tr>\n",
       "  </tbody>\n",
       "</table>\n",
       "</div>"
      ],
      "text/plain": [
       "  Item_Identifier  Item_Weight  ...        Outlet_Type  Item_Outlet_Sales\n",
       "0           FDA15         9.30  ...  Supermarket Type1          3735.1380\n",
       "1           DRC01         5.92  ...  Supermarket Type2           443.4228\n",
       "2           FDN15        17.50  ...  Supermarket Type1          2097.2700\n",
       "3           FDX07        19.20  ...      Grocery Store           732.3800\n",
       "4           NCD19         8.93  ...  Supermarket Type1           994.7052\n",
       "\n",
       "[5 rows x 12 columns]"
      ]
     },
     "execution_count": 291,
     "metadata": {},
     "output_type": "execute_result"
    }
   ],
   "source": [
    "#Priting first 5 Row\n",
    "\n",
    "sale_data.head()\n"
   ]
  },
  {
   "cell_type": "code",
   "execution_count": 292,
   "id": "8d272636",
   "metadata": {},
   "outputs": [
    {
     "data": {
      "text/plain": [
       "(8523, 12)"
      ]
     },
     "execution_count": 292,
     "metadata": {},
     "output_type": "execute_result"
    }
   ],
   "source": [
    "#Checking Row and Columns of Data\n",
    "\n",
    "sale_data.shape"
   ]
  },
  {
   "cell_type": "code",
   "execution_count": 293,
   "id": "f0acffef",
   "metadata": {},
   "outputs": [
    {
     "name": "stdout",
     "output_type": "stream",
     "text": [
      "<class 'pandas.core.frame.DataFrame'>\n",
      "RangeIndex: 8523 entries, 0 to 8522\n",
      "Data columns (total 12 columns):\n",
      " #   Column                     Non-Null Count  Dtype  \n",
      "---  ------                     --------------  -----  \n",
      " 0   Item_Identifier            8523 non-null   object \n",
      " 1   Item_Weight                7060 non-null   float64\n",
      " 2   Item_Fat_Content           8523 non-null   object \n",
      " 3   Item_Visibility            8523 non-null   float64\n",
      " 4   Item_Type                  8523 non-null   object \n",
      " 5   Item_MRP                   8523 non-null   float64\n",
      " 6   Outlet_Identifier          8523 non-null   object \n",
      " 7   Outlet_Establishment_Year  8523 non-null   int64  \n",
      " 8   Outlet_Size                6113 non-null   object \n",
      " 9   Outlet_Location_Type       8523 non-null   object \n",
      " 10  Outlet_Type                8523 non-null   object \n",
      " 11  Item_Outlet_Sales          8523 non-null   float64\n",
      "dtypes: float64(4), int64(1), object(7)\n",
      "memory usage: 799.2+ KB\n"
     ]
    }
   ],
   "source": [
    "#Getting some information abt the Dataset\n",
    "\n",
    "sale_data.info()"
   ]
  },
  {
   "cell_type": "markdown",
   "id": "e2a244b9",
   "metadata": {},
   "source": [
    "Categorical Features:\n",
    "\n",
    "- Item_Identifier            \n",
    "- Item_Fat_Content           \n",
    "- Item_Type  \n",
    "- Outlet_Identifier          \n",
    "- Outlet_Size                \n",
    "- Outlet_Location_Type \n",
    "- Outlet_Type                                  "
   ]
  },
  {
   "cell_type": "code",
   "execution_count": 294,
   "id": "f6e3d658",
   "metadata": {},
   "outputs": [
    {
     "data": {
      "text/plain": [
       "Item_Identifier                 0\n",
       "Item_Weight                  1463\n",
       "Item_Fat_Content                0\n",
       "Item_Visibility                 0\n",
       "Item_Type                       0\n",
       "Item_MRP                        0\n",
       "Outlet_Identifier               0\n",
       "Outlet_Establishment_Year       0\n",
       "Outlet_Size                  2410\n",
       "Outlet_Location_Type            0\n",
       "Outlet_Type                     0\n",
       "Item_Outlet_Sales               0\n",
       "dtype: int64"
      ]
     },
     "execution_count": 294,
     "metadata": {},
     "output_type": "execute_result"
    }
   ],
   "source": [
    "#Checking The Missing Value in each Columns\n",
    "\n",
    "sale_data.isna().sum()"
   ]
  },
  {
   "cell_type": "markdown",
   "id": "f481be3e",
   "metadata": {},
   "source": [
    "Handling Missing Value"
   ]
  },
  {
   "cell_type": "markdown",
   "id": "46ace9e2",
   "metadata": {},
   "source": [
    "Mean -> Average Value\n",
    "\n",
    "Mode -> Most Repeated Value\n"
   ]
  },
  {
   "cell_type": "markdown",
   "id": "694bc9eb",
   "metadata": {},
   "source": [
    "Replacing Item weight missing Value with Mean"
   ]
  },
  {
   "cell_type": "code",
   "execution_count": 295,
   "id": "0050c6dd",
   "metadata": {},
   "outputs": [
    {
     "data": {
      "text/plain": [
       "np.float64(12.857645184135977)"
      ]
     },
     "execution_count": 295,
     "metadata": {},
     "output_type": "execute_result"
    }
   ],
   "source": [
    "#Mean value of \"Item_Weight\"columns\n",
    "sale_data['Item_Weight'].mean()"
   ]
  },
  {
   "cell_type": "code",
   "execution_count": 296,
   "id": "b9a5ca6e",
   "metadata": {},
   "outputs": [
    {
     "name": "stderr",
     "output_type": "stream",
     "text": [
      "C:\\Users\\Priyanshu tiwari\\AppData\\Local\\Temp\\ipykernel_27392\\408607109.py:3: FutureWarning: A value is trying to be set on a copy of a DataFrame or Series through chained assignment using an inplace method.\n",
      "The behavior will change in pandas 3.0. This inplace method will never work because the intermediate object on which we are setting values always behaves as a copy.\n",
      "\n",
      "For example, when doing 'df[col].method(value, inplace=True)', try using 'df.method({col: value}, inplace=True)' or df[col] = df[col].method(value) instead, to perform the operation inplace on the original object.\n",
      "\n",
      "\n",
      "  sale_data['Item_Weight'].fillna(sale_data['Item_Weight'].mean(), inplace=True)\n"
     ]
    }
   ],
   "source": [
    "#Filling the Missing Value in \"Item_Weight\" column\n",
    "\n",
    "sale_data['Item_Weight'].fillna(sale_data['Item_Weight'].mean(), inplace=True)"
   ]
  },
  {
   "cell_type": "code",
   "execution_count": 297,
   "id": "3c13bff4",
   "metadata": {},
   "outputs": [
    {
     "data": {
      "text/plain": [
       "Item_Identifier                 0\n",
       "Item_Weight                     0\n",
       "Item_Fat_Content                0\n",
       "Item_Visibility                 0\n",
       "Item_Type                       0\n",
       "Item_MRP                        0\n",
       "Outlet_Identifier               0\n",
       "Outlet_Establishment_Year       0\n",
       "Outlet_Size                  2410\n",
       "Outlet_Location_Type            0\n",
       "Outlet_Type                     0\n",
       "Item_Outlet_Sales               0\n",
       "dtype: int64"
      ]
     },
     "execution_count": 297,
     "metadata": {},
     "output_type": "execute_result"
    }
   ],
   "source": [
    "#Checking The Missing Value in each Columns\n",
    "\n",
    "sale_data.isna().sum()"
   ]
  },
  {
   "cell_type": "markdown",
   "id": "f4a07050",
   "metadata": {},
   "source": [
    "Replacing the missing Value in 'Outlet_Size' with Mode"
   ]
  },
  {
   "cell_type": "code",
   "execution_count": 298,
   "id": "934e76f2",
   "metadata": {},
   "outputs": [],
   "source": [
    "mode_of_outlet_size=sale_data.pivot_table(values='Outlet_Size', columns='Outlet_Type', aggfunc=(lambda x: x.mode()[0]))"
   ]
  },
  {
   "cell_type": "code",
   "execution_count": 299,
   "id": "ba2da607",
   "metadata": {},
   "outputs": [
    {
     "name": "stdout",
     "output_type": "stream",
     "text": [
      "Outlet_Type Grocery Store Supermarket Type1 Supermarket Type2 Supermarket Type3\n",
      "Outlet_Size         Small             Small            Medium            Medium\n"
     ]
    }
   ],
   "source": [
    "print(mode_of_outlet_size)"
   ]
  },
  {
   "cell_type": "code",
   "execution_count": 300,
   "id": "8bad4b1e",
   "metadata": {},
   "outputs": [],
   "source": [
    "missing_values=sale_data['Outlet_Size'].isnull()"
   ]
  },
  {
   "cell_type": "code",
   "execution_count": 301,
   "id": "2a3e1a12",
   "metadata": {},
   "outputs": [
    {
     "name": "stdout",
     "output_type": "stream",
     "text": [
      "0       False\n",
      "1       False\n",
      "2       False\n",
      "3        True\n",
      "4       False\n",
      "        ...  \n",
      "8518    False\n",
      "8519     True\n",
      "8520    False\n",
      "8521    False\n",
      "8522    False\n",
      "Name: Outlet_Size, Length: 8523, dtype: bool\n"
     ]
    }
   ],
   "source": [
    "print(missing_values)"
   ]
  },
  {
   "cell_type": "code",
   "execution_count": 302,
   "id": "da5b617c",
   "metadata": {},
   "outputs": [],
   "source": [
    "sale_data.loc[missing_values, 'Outlet_Size']=sale_data.loc[missing_values, 'Outlet_Type'].apply(lambda x: mode_of_outlet_size)"
   ]
  },
  {
   "cell_type": "code",
   "execution_count": 303,
   "id": "194d3442",
   "metadata": {},
   "outputs": [
    {
     "data": {
      "text/plain": [
       "Item_Identifier              0\n",
       "Item_Weight                  0\n",
       "Item_Fat_Content             0\n",
       "Item_Visibility              0\n",
       "Item_Type                    0\n",
       "Item_MRP                     0\n",
       "Outlet_Identifier            0\n",
       "Outlet_Establishment_Year    0\n",
       "Outlet_Size                  0\n",
       "Outlet_Location_Type         0\n",
       "Outlet_Type                  0\n",
       "Item_Outlet_Sales            0\n",
       "dtype: int64"
      ]
     },
     "execution_count": 303,
     "metadata": {},
     "output_type": "execute_result"
    }
   ],
   "source": [
    "#Checking The Missing Value in each Columns\n",
    "\n",
    "sale_data.isna().sum()"
   ]
  },
  {
   "cell_type": "code",
   "execution_count": 304,
   "id": "5b44e7cb",
   "metadata": {},
   "outputs": [
    {
     "data": {
      "text/plain": [
       "Outlet_Location_Type\n",
       "Tier 3    3350\n",
       "Tier 2    2785\n",
       "Tier 1    2388\n",
       "Name: count, dtype: int64"
      ]
     },
     "execution_count": 304,
     "metadata": {},
     "output_type": "execute_result"
    }
   ],
   "source": [
    "sale_data['Outlet_Location_Type'].value_counts()"
   ]
  },
  {
   "cell_type": "code",
   "execution_count": 305,
   "id": "b0c70edf",
   "metadata": {},
   "outputs": [
    {
     "data": {
      "text/plain": [
       "Item_Type\n",
       "Fruits and Vegetables    1232\n",
       "Snack Foods              1200\n",
       "Household                 910\n",
       "Frozen Foods              856\n",
       "Dairy                     682\n",
       "Canned                    649\n",
       "Baking Goods              648\n",
       "Health and Hygiene        520\n",
       "Soft Drinks               445\n",
       "Meat                      425\n",
       "Breads                    251\n",
       "Hard Drinks               214\n",
       "Others                    169\n",
       "Starchy Foods             148\n",
       "Breakfast                 110\n",
       "Seafood                    64\n",
       "Name: count, dtype: int64"
      ]
     },
     "execution_count": 305,
     "metadata": {},
     "output_type": "execute_result"
    }
   ],
   "source": [
    "sale_data['Item_Type'].value_counts()"
   ]
  },
  {
   "cell_type": "markdown",
   "id": "f48c4448",
   "metadata": {},
   "source": [
    "## Data Ananlysis"
   ]
  },
  {
   "cell_type": "code",
   "execution_count": 306,
   "id": "557fdec6",
   "metadata": {},
   "outputs": [
    {
     "data": {
      "text/html": [
       "<div>\n",
       "<style scoped>\n",
       "    .dataframe tbody tr th:only-of-type {\n",
       "        vertical-align: middle;\n",
       "    }\n",
       "\n",
       "    .dataframe tbody tr th {\n",
       "        vertical-align: top;\n",
       "    }\n",
       "\n",
       "    .dataframe thead th {\n",
       "        text-align: right;\n",
       "    }\n",
       "</style>\n",
       "<table border=\"1\" class=\"dataframe\">\n",
       "  <thead>\n",
       "    <tr style=\"text-align: right;\">\n",
       "      <th></th>\n",
       "      <th>Item_Weight</th>\n",
       "      <th>Item_Visibility</th>\n",
       "      <th>Item_MRP</th>\n",
       "      <th>Outlet_Establishment_Year</th>\n",
       "      <th>Item_Outlet_Sales</th>\n",
       "    </tr>\n",
       "  </thead>\n",
       "  <tbody>\n",
       "    <tr>\n",
       "      <th>count</th>\n",
       "      <td>8523.000000</td>\n",
       "      <td>8523.000000</td>\n",
       "      <td>8523.000000</td>\n",
       "      <td>8523.000000</td>\n",
       "      <td>8523.000000</td>\n",
       "    </tr>\n",
       "    <tr>\n",
       "      <th>mean</th>\n",
       "      <td>12.857645</td>\n",
       "      <td>0.066132</td>\n",
       "      <td>140.992782</td>\n",
       "      <td>1997.831867</td>\n",
       "      <td>2181.288914</td>\n",
       "    </tr>\n",
       "    <tr>\n",
       "      <th>std</th>\n",
       "      <td>4.226124</td>\n",
       "      <td>0.051598</td>\n",
       "      <td>62.275067</td>\n",
       "      <td>8.371760</td>\n",
       "      <td>1706.499616</td>\n",
       "    </tr>\n",
       "    <tr>\n",
       "      <th>min</th>\n",
       "      <td>4.555000</td>\n",
       "      <td>0.000000</td>\n",
       "      <td>31.290000</td>\n",
       "      <td>1985.000000</td>\n",
       "      <td>33.290000</td>\n",
       "    </tr>\n",
       "    <tr>\n",
       "      <th>25%</th>\n",
       "      <td>9.310000</td>\n",
       "      <td>0.026989</td>\n",
       "      <td>93.826500</td>\n",
       "      <td>1987.000000</td>\n",
       "      <td>834.247400</td>\n",
       "    </tr>\n",
       "    <tr>\n",
       "      <th>50%</th>\n",
       "      <td>12.857645</td>\n",
       "      <td>0.053931</td>\n",
       "      <td>143.012800</td>\n",
       "      <td>1999.000000</td>\n",
       "      <td>1794.331000</td>\n",
       "    </tr>\n",
       "    <tr>\n",
       "      <th>75%</th>\n",
       "      <td>16.000000</td>\n",
       "      <td>0.094585</td>\n",
       "      <td>185.643700</td>\n",
       "      <td>2004.000000</td>\n",
       "      <td>3101.296400</td>\n",
       "    </tr>\n",
       "    <tr>\n",
       "      <th>max</th>\n",
       "      <td>21.350000</td>\n",
       "      <td>0.328391</td>\n",
       "      <td>266.888400</td>\n",
       "      <td>2009.000000</td>\n",
       "      <td>13086.964800</td>\n",
       "    </tr>\n",
       "  </tbody>\n",
       "</table>\n",
       "</div>"
      ],
      "text/plain": [
       "       Item_Weight  ...  Item_Outlet_Sales\n",
       "count  8523.000000  ...        8523.000000\n",
       "mean     12.857645  ...        2181.288914\n",
       "std       4.226124  ...        1706.499616\n",
       "min       4.555000  ...          33.290000\n",
       "25%       9.310000  ...         834.247400\n",
       "50%      12.857645  ...        1794.331000\n",
       "75%      16.000000  ...        3101.296400\n",
       "max      21.350000  ...       13086.964800\n",
       "\n",
       "[8 rows x 5 columns]"
      ]
     },
     "execution_count": 306,
     "metadata": {},
     "output_type": "execute_result"
    }
   ],
   "source": [
    "#Stastical Measure of Data\n",
    "\n",
    "sale_data.describe()"
   ]
  },
  {
   "cell_type": "markdown",
   "id": "0c5d9a00",
   "metadata": {},
   "source": [
    "**Numerical Features**"
   ]
  },
  {
   "cell_type": "code",
   "execution_count": 307,
   "id": "906fcdd4",
   "metadata": {},
   "outputs": [],
   "source": [
    "sns.set()"
   ]
  },
  {
   "cell_type": "code",
   "execution_count": 308,
   "id": "a6958da6",
   "metadata": {},
   "outputs": [
    {
     "data": {
      "image/png": "[encoded data removed]",
      "text/plain": [
       "<Figure size 600x600 with 1 Axes>"
      ]
     },
     "metadata": {},
     "output_type": "display_data"
    }
   ],
   "source": [
    "#Item_Weight distribution\n",
    "plt.figure(figsize=(6,6))\n",
    "sns.histplot(sale_data['Item_Weight'])\n",
    "plt.show()"
   ]
  },
  {
   "cell_type": "code",
   "execution_count": 309,
   "id": "c6c3219d",
   "metadata": {},
   "outputs": [
    {
     "data": {
      "image/png": "[encoded data removed]",
      "text/plain": [
       "<Figure size 600x600 with 1 Axes>"
      ]
     },
     "metadata": {},
     "output_type": "display_data"
    }
   ],
   "source": [
    "#Item_Visibility distribution\n",
    "plt.figure(figsize=(6,6))\n",
    "sns.histplot(sale_data['Item_Visibility'])\n",
    "plt.show()"
   ]
  },
  {
   "cell_type": "code",
   "execution_count": 310,
   "id": "d47f1664",
   "metadata": {},
   "outputs": [
    {
     "data": {
      "image/png": "[encoded data removed]",
      "text/plain": [
       "<Figure size 600x600 with 1 Axes>"
      ]
     },
     "metadata": {},
     "output_type": "display_data"
    }
   ],
   "source": [
    "#Item_MRP distribution\n",
    "plt.figure(figsize=(6,6))\n",
    "sns.histplot(sale_data['Item_MRP'])\n",
    "plt.show()"
   ]
  },
  {
   "cell_type": "code",
   "execution_count": 311,
   "id": "3710e71f",
   "metadata": {},
   "outputs": [
    {
     "data": {
      "image/png": "[encoded data removed]",
      "text/plain": [
       "<Figure size 600x600 with 1 Axes>"
      ]
     },
     "metadata": {},
     "output_type": "display_data"
    }
   ],
   "source": [
    "#Item_Outlet_Sales distribution\n",
    "plt.figure(figsize=(6,6))\n",
    "sns.histplot(sale_data['Item_Outlet_Sales'])\n",
    "plt.show()"
   ]
  },
  {
   "cell_type": "code",
   "execution_count": 312,
   "id": "430770f9",
   "metadata": {},
   "outputs": [
    {
     "data": {
      "image/png": "[encoded data removed]",
      "text/plain": [
       "<Figure size 600x600 with 1 Axes>"
      ]
     },
     "metadata": {},
     "output_type": "display_data"
    }
   ],
   "source": [
    "#Outlet_Establishment_Year Column\n",
    "\n",
    "\n",
    "plt.figure(figsize=(6,6))\n",
    "sns.countplot(x='Outlet_Establishment_Year', data=sale_data)\n",
    "plt.show()"
   ]
  },
  {
   "cell_type": "markdown",
   "id": "cfabfbce",
   "metadata": {},
   "source": [
    "**Categorical Feature**"
   ]
  },
  {
   "cell_type": "code",
   "execution_count": 313,
   "id": "854b5a97",
   "metadata": {},
   "outputs": [
    {
     "data": {
      "image/png": "[encoded data removed]",
      "text/plain": [
       "<Figure size 600x600 with 1 Axes>"
      ]
     },
     "metadata": {},
     "output_type": "display_data"
    }
   ],
   "source": [
    "#Item_Fat_content Column\n",
    "\n",
    "\n",
    "plt.figure(figsize=(6,6))\n",
    "sns.countplot(x='Item_Fat_Content', data=sale_data)\n",
    "plt.show()"
   ]
  },
  {
   "cell_type": "code",
   "execution_count": 314,
   "id": "ef42c9dd",
   "metadata": {},
   "outputs": [
    {
     "data": {
      "image/png": "[encoded data removed]",
      "text/plain": [
       "<Figure size 2400x600 with 1 Axes>"
      ]
     },
     "metadata": {},
     "output_type": "display_data"
    }
   ],
   "source": [
    "#Item_Type Column\n",
    "\n",
    "\n",
    "plt.figure(figsize=(24,6))\n",
    "sns.countplot(x='Item_Type', data=sale_data)\n",
    "plt.show()"
   ]
  },
  {
   "cell_type": "code",
   "execution_count": 315,
   "id": "b0080bf0",
   "metadata": {},
   "outputs": [
    {
     "ename": "ValueError",
     "evalue": "The truth value of a DataFrame is ambiguous. Use a.empty, a.bool(), a.item(), a.any() or a.all().",
     "output_type": "error",
     "traceback": [
      "\u001b[31m---------------------------------------------------------------------------\u001b[39m",
      "\u001b[31mValueError\u001b[39m                                Traceback (most recent call last)",
      "\u001b[32m~\\AppData\\Local\\Temp\\ipykernel_27392\\2910547160.py\u001b[39m in \u001b[36m?\u001b[39m\u001b[34m()\u001b[39m\n\u001b[32m      1\u001b[39m \u001b[38;5;66;03m#Outlet_Size Column\u001b[39;00m\n\u001b[32m      2\u001b[39m \n\u001b[32m      3\u001b[39m \n\u001b[32m      4\u001b[39m plt.figure(figsize=(\u001b[32m6\u001b[39m,\u001b[32m6\u001b[39m))\n\u001b[32m----> \u001b[39m\u001b[32m5\u001b[39m sns.countplot(x=\u001b[33m'Outlet_Size'\u001b[39m, data=sale_data)\n\u001b[32m      6\u001b[39m plt.show()\n",
      "\u001b[32mc:\\Users\\Priyanshu tiwari\\AppData\\Local\\Programs\\Python\\Python313\\Lib\\site-packages\\seaborn\\categorical.py\u001b[39m in \u001b[36m?\u001b[39m\u001b[34m(data, x, y, hue, order, hue_order, orient, color, palette, saturation, fill, hue_norm, stat, width, dodge, gap, log_scale, native_scale, formatter, legend, ax, **kwargs)\u001b[39m\n\u001b[32m   2627\u001b[39m         y = \u001b[32m1\u001b[39m \u001b[38;5;28;01mif\u001b[39;00m list(x) \u001b[38;5;28;01melse\u001b[39;00m \u001b[38;5;28;01mNone\u001b[39;00m\n\u001b[32m   2628\u001b[39m     \u001b[38;5;28;01melif\u001b[39;00m x \u001b[38;5;28;01mis\u001b[39;00m \u001b[38;5;28;01mnot\u001b[39;00m \u001b[38;5;28;01mNone\u001b[39;00m \u001b[38;5;28;01mand\u001b[39;00m y \u001b[38;5;28;01mis\u001b[39;00m \u001b[38;5;28;01mnot\u001b[39;00m \u001b[38;5;28;01mNone\u001b[39;00m:\n\u001b[32m   2629\u001b[39m         \u001b[38;5;28;01mraise\u001b[39;00m TypeError(\u001b[33m\"Cannot pass values for both `x` and `y`.\"\u001b[39m)\n\u001b[32m   2630\u001b[39m \n\u001b[32m-> \u001b[39m\u001b[32m2631\u001b[39m     p = _CategoricalAggPlotter(\n\u001b[32m   2632\u001b[39m         data=data,\n\u001b[32m   2633\u001b[39m         variables=dict(x=x, y=y, hue=hue),\n\u001b[32m   2634\u001b[39m         order=order,\n",
      "\u001b[32mc:\\Users\\Priyanshu tiwari\\AppData\\Local\\Programs\\Python\\Python313\\Lib\\site-packages\\seaborn\\categorical.py\u001b[39m in \u001b[36m?\u001b[39m\u001b[34m(self, data, variables, order, orient, require_numeric, color, legend)\u001b[39m\n\u001b[32m     63\u001b[39m         color=\u001b[38;5;28;01mNone\u001b[39;00m,\n\u001b[32m     64\u001b[39m         legend=\u001b[33m\"auto\"\u001b[39m,\n\u001b[32m     65\u001b[39m     ):\n\u001b[32m     66\u001b[39m \n\u001b[32m---> \u001b[39m\u001b[32m67\u001b[39m         super().__init__(data=data, variables=variables)\n\u001b[32m     68\u001b[39m \n\u001b[32m     69\u001b[39m         \u001b[38;5;66;03m# This method takes care of some bookkeeping that is necessary because the\u001b[39;00m\n\u001b[32m     70\u001b[39m         \u001b[38;5;66;03m# original categorical plots (prior to the 2021 refactor) had some rules that\u001b[39;00m\n",
      "\u001b[32mc:\\Users\\Priyanshu tiwari\\AppData\\Local\\Programs\\Python\\Python313\\Lib\\site-packages\\seaborn\\_base.py\u001b[39m in \u001b[36m?\u001b[39m\u001b[34m(self, data, variables)\u001b[39m\n\u001b[32m    630\u001b[39m         \u001b[38;5;66;03m# be better handled by an internal axis information object that tracks\u001b[39;00m\n\u001b[32m    631\u001b[39m         \u001b[38;5;66;03m# such information and is set up by the scale_* methods. The analogous\u001b[39;00m\n\u001b[32m    632\u001b[39m         \u001b[38;5;66;03m# information for numeric axes would be information about log scales.\u001b[39;00m\n\u001b[32m    633\u001b[39m         self._var_ordered = {\u001b[33m\"x\"\u001b[39m: \u001b[38;5;28;01mFalse\u001b[39;00m, \u001b[33m\"y\"\u001b[39m: \u001b[38;5;28;01mFalse\u001b[39;00m}  \u001b[38;5;66;03m# alt., used DefaultDict\u001b[39;00m\n\u001b[32m--> \u001b[39m\u001b[32m634\u001b[39m         self.assign_variables(data, variables)\n\u001b[32m    635\u001b[39m \n\u001b[32m    636\u001b[39m         \u001b[38;5;66;03m# TODO Lots of tests assume that these are called to initialize the\u001b[39;00m\n\u001b[32m    637\u001b[39m         \u001b[38;5;66;03m# mappings to default values on class initialization. I'd prefer to\u001b[39;00m\n",
      "\u001b[32mc:\\Users\\Priyanshu tiwari\\AppData\\Local\\Programs\\Python\\Python313\\Lib\\site-packages\\seaborn\\_base.py\u001b[39m in \u001b[36m?\u001b[39m\u001b[34m(self, data, variables)\u001b[39m\n\u001b[32m    681\u001b[39m             names = plot_data.names\n\u001b[32m    682\u001b[39m \n\u001b[32m    683\u001b[39m         self.plot_data = frame\n\u001b[32m    684\u001b[39m         self.variables = names\n\u001b[32m--> \u001b[39m\u001b[32m685\u001b[39m         self.var_types = {\n\u001b[32m    686\u001b[39m             v: variable_type(\n\u001b[32m    687\u001b[39m                 frame[v],\n\u001b[32m    688\u001b[39m                 boolean_type=\u001b[33m\"numeric\"\u001b[39m \u001b[38;5;28;01mif\u001b[39;00m v \u001b[38;5;28;01min\u001b[39;00m \u001b[33m\"xy\"\u001b[39m \u001b[38;5;28;01melse\u001b[39;00m \u001b[33m\"categorical\"\u001b[39m\n",
      "\u001b[32mc:\\Users\\Priyanshu tiwari\\AppData\\Local\\Programs\\Python\\Python313\\Lib\\site-packages\\seaborn\\_base.py\u001b[39m in \u001b[36m?\u001b[39m\u001b[34m(vector, boolean_type)\u001b[39m\n\u001b[32m   1519\u001b[39m         )\n\u001b[32m   1520\u001b[39m         \u001b[38;5;28;01mtry\u001b[39;00m:\n\u001b[32m   1521\u001b[39m             \u001b[38;5;28;01mif\u001b[39;00m np.isin(vector, [\u001b[32m0\u001b[39m, \u001b[32m1\u001b[39m]).all():\n\u001b[32m   1522\u001b[39m                 \u001b[38;5;28;01mreturn\u001b[39;00m VariableType(boolean_type)\n\u001b[32m-> \u001b[39m\u001b[32m1523\u001b[39m         \u001b[38;5;28;01mexcept\u001b[39;00m TypeError:\n\u001b[32m   1524\u001b[39m             \u001b[38;5;66;03m# .isin comparison is not guaranteed to be possible under NumPy\u001b[39;00m\n\u001b[32m   1525\u001b[39m             \u001b[38;5;66;03m# casting rules, depending on the (unknown) dtype of 'vector'\u001b[39;00m\n\u001b[32m   1526\u001b[39m             \u001b[38;5;28;01mpass\u001b[39;00m\n",
      "\u001b[32mc:\\Users\\Priyanshu tiwari\\AppData\\Local\\Programs\\Python\\Python313\\Lib\\site-packages\\numpy\\lib\\_arraysetops_impl.py\u001b[39m in \u001b[36m?\u001b[39m\u001b[34m(element, test_elements, assume_unique, invert, kind)\u001b[39m\n\u001b[32m   1173\u001b[39m     array([[False,  True],\n\u001b[32m   1174\u001b[39m            [ \u001b[38;5;28;01mTrue\u001b[39;00m, \u001b[38;5;28;01mFalse\u001b[39;00m]])\n\u001b[32m   1175\u001b[39m     \"\"\"\n\u001b[32m   1176\u001b[39m     element = np.asarray(element)\n\u001b[32m-> \u001b[39m\u001b[32m1177\u001b[39m     return _in1d(element, test_elements, assume_unique=assume_unique,\n\u001b[32m   1178\u001b[39m                  invert=invert, kind=kind).reshape(element.shape)\n",
      "\u001b[32mc:\\Users\\Priyanshu tiwari\\AppData\\Local\\Programs\\Python\\Python313\\Lib\\site-packages\\numpy\\lib\\_arraysetops_impl.py\u001b[39m in \u001b[36m?\u001b[39m\u001b[34m(ar1, ar2, assume_unique, invert, kind)\u001b[39m\n\u001b[32m   1023\u001b[39m                 mask &= (ar1 != a)\n\u001b[32m   1024\u001b[39m         \u001b[38;5;28;01melse\u001b[39;00m:\n\u001b[32m   1025\u001b[39m             mask = np.zeros(len(ar1), dtype=bool)\n\u001b[32m   1026\u001b[39m             \u001b[38;5;28;01mfor\u001b[39;00m a \u001b[38;5;28;01min\u001b[39;00m ar2:\n\u001b[32m-> \u001b[39m\u001b[32m1027\u001b[39m                 mask |= (ar1 == a)\n\u001b[32m   1028\u001b[39m         \u001b[38;5;28;01mreturn\u001b[39;00m mask\n\u001b[32m   1029\u001b[39m \n\u001b[32m   1030\u001b[39m     \u001b[38;5;66;03m# Otherwise use sorting\u001b[39;00m\n",
      "\u001b[32mc:\\Users\\Priyanshu tiwari\\AppData\\Local\\Programs\\Python\\Python313\\Lib\\site-packages\\pandas\\core\\generic.py\u001b[39m in \u001b[36m?\u001b[39m\u001b[34m(self)\u001b[39m\n\u001b[32m   1575\u001b[39m     @final\n\u001b[32m   1576\u001b[39m     \u001b[38;5;28;01mdef\u001b[39;00m __nonzero__(self) -> NoReturn:\n\u001b[32m-> \u001b[39m\u001b[32m1577\u001b[39m         raise ValueError(\n\u001b[32m   1578\u001b[39m             f\"The truth value of a {type(self).__name__} is ambiguous. \"\n\u001b[32m   1579\u001b[39m             \u001b[33m\"Use a.empty, a.bool(), a.item(), a.any() or a.all().\"\u001b[39m\n\u001b[32m   1580\u001b[39m         )\n",
      "\u001b[31mValueError\u001b[39m: The truth value of a DataFrame is ambiguous. Use a.empty, a.bool(), a.item(), a.any() or a.all()."
     ]
    },
    {
     "data": {
      "text/plain": [
       "<Figure size 600x600 with 0 Axes>"
      ]
     },
     "metadata": {},
     "output_type": "display_data"
    }
   ],
   "source": [
    "#Outlet_Size Column\n",
    "\n",
    "\n",
    "plt.figure(figsize=(6,6))\n",
    "sns.countplot(x='Outlet_Size', data=sale_data)\n",
    "plt.show()"
   ]
  },
  {
   "cell_type": "markdown",
   "id": "fec895e8",
   "metadata": {},
   "source": [
    "**Data Preprocessing**"
   ]
  },
  {
   "cell_type": "code",
   "execution_count": null,
   "id": "00439ee2",
   "metadata": {},
   "outputs": [
    {
     "data": {
      "text/plain": [
       "Item_Fat_Content\n",
       "Low Fat    5089\n",
       "Regular    2889\n",
       "LF          316\n",
       "reg         117\n",
       "low fat     112\n",
       "Name: count, dtype: int64"
      ]
     },
     "execution_count": 106,
     "metadata": {},
     "output_type": "execute_result"
    }
   ],
   "source": [
    "sale_data['Item_Fat_Content'].value_counts()"
   ]
  },
  {
   "cell_type": "code",
   "execution_count": null,
   "id": "3baf2535",
   "metadata": {},
   "outputs": [],
   "source": [
    "sale_data.replace({'Item_Fat_Content': {'low fat': 'Low Fat', 'LF': 'Low Fat', 'reg': 'Regular'}},inplace=True)"
   ]
  },
  {
   "cell_type": "code",
   "execution_count": null,
   "id": "0fba3a65",
   "metadata": {},
   "outputs": [
    {
     "data": {
      "text/plain": [
       "Item_Fat_Content\n",
       "Low Fat    5517\n",
       "Regular    3006\n",
       "Name: count, dtype: int64"
      ]
     },
     "execution_count": 108,
     "metadata": {},
     "output_type": "execute_result"
    }
   ],
   "source": [
    "sale_data['Item_Fat_Content'].value_counts()"
   ]
  },
  {
   "cell_type": "markdown",
   "id": "04f4d305",
   "metadata": {},
   "source": [
    "**Lable Encoding**"
   ]
  },
  {
   "cell_type": "code",
   "execution_count": null,
   "id": "3928054f",
   "metadata": {},
   "outputs": [],
   "source": [
    "encoder=LabelEncoder()"
   ]
  },
  {
   "cell_type": "code",
   "execution_count": null,
   "id": "c6e393f7",
   "metadata": {},
   "outputs": [
    {
     "data": {
      "text/plain": [
       "Item_Identifier              0\n",
       "Item_Weight                  0\n",
       "Item_Fat_Content             0\n",
       "Item_Visibility              0\n",
       "Item_Type                    0\n",
       "Item_MRP                     0\n",
       "Outlet_Identifier            0\n",
       "Outlet_Establishment_Year    0\n",
       "Outlet_Size                  0\n",
       "Outlet_Location_Type         0\n",
       "Outlet_Type                  0\n",
       "Item_Outlet_Sales            0\n",
       "dtype: int64"
      ]
     },
     "execution_count": 113,
     "metadata": {},
     "output_type": "execute_result"
    }
   ],
   "source": [
    "sale_data.isna().sum()"
   ]
  },
  {
   "cell_type": "code",
   "execution_count": null,
   "id": "3570cbb0",
   "metadata": {},
   "outputs": [],
   "source": [
    "sale_data['Item_Fat_Content']= encoder.fit_transform(sale_data['Item_Fat_Content'])\n",
    "sale_data['Item_Type']= encoder.fit_transform(sale_data['Item_Type'])\n",
    "\n",
    "sale_data['Outlet_Location_Type']= encoder.fit_transform(sale_data['Outlet_Location_Type'])\n",
    "sale_data['Outlet_Type']= encoder.fit_transform(sale_data['Outlet_Type'])\n",
    "sale_data['Item_Identifier']= encoder.fit_transform(sale_data['Item_Identifier'])\n",
    "sale_data['Outlet_Identifier']= encoder.fit_transform(sale_data['Outlet_Identifier'])"
   ]
  },
  {
   "cell_type": "code",
   "execution_count": null,
   "id": "537b420d",
   "metadata": {},
   "outputs": [],
   "source": [
    "# Convert to string and flatten\n",
    "sale_data['Outlet_Size'] = sale_data['Outlet_Size'].astype(str)\n"
   ]
  },
  {
   "cell_type": "code",
   "execution_count": null,
   "id": "a838c678",
   "metadata": {},
   "outputs": [],
   "source": [
    "sale_data['Outlet_Size']= encoder.fit_transform(sale_data['Outlet_Size'])"
   ]
  },
  {
   "cell_type": "code",
   "execution_count": null,
   "id": "35f00be0",
   "metadata": {},
   "outputs": [
    {
     "data": {
      "text/html": [
       "<div>\n",
       "<style scoped>\n",
       "    .dataframe tbody tr th:only-of-type {\n",
       "        vertical-align: middle;\n",
       "    }\n",
       "\n",
       "    .dataframe tbody tr th {\n",
       "        vertical-align: top;\n",
       "    }\n",
       "\n",
       "    .dataframe thead th {\n",
       "        text-align: right;\n",
       "    }\n",
       "</style>\n",
       "<table border=\"1\" class=\"dataframe\">\n",
       "  <thead>\n",
       "    <tr style=\"text-align: right;\">\n",
       "      <th></th>\n",
       "      <th>Item_Identifier</th>\n",
       "      <th>Item_Weight</th>\n",
       "      <th>Item_Fat_Content</th>\n",
       "      <th>Item_Visibility</th>\n",
       "      <th>Item_Type</th>\n",
       "      <th>Item_MRP</th>\n",
       "      <th>Outlet_Identifier</th>\n",
       "      <th>Outlet_Establishment_Year</th>\n",
       "      <th>Outlet_Size</th>\n",
       "      <th>Outlet_Location_Type</th>\n",
       "      <th>Outlet_Type</th>\n",
       "      <th>Item_Outlet_Sales</th>\n",
       "    </tr>\n",
       "  </thead>\n",
       "  <tbody>\n",
       "    <tr>\n",
       "      <th>0</th>\n",
       "      <td>156</td>\n",
       "      <td>9.30</td>\n",
       "      <td>1</td>\n",
       "      <td>0.016047</td>\n",
       "      <td>4</td>\n",
       "      <td>249.8092</td>\n",
       "      <td>9</td>\n",
       "      <td>1999</td>\n",
       "      <td>1</td>\n",
       "      <td>0</td>\n",
       "      <td>1</td>\n",
       "      <td>3735.1380</td>\n",
       "    </tr>\n",
       "    <tr>\n",
       "      <th>1</th>\n",
       "      <td>8</td>\n",
       "      <td>5.92</td>\n",
       "      <td>2</td>\n",
       "      <td>0.019278</td>\n",
       "      <td>14</td>\n",
       "      <td>48.2692</td>\n",
       "      <td>3</td>\n",
       "      <td>2009</td>\n",
       "      <td>1</td>\n",
       "      <td>2</td>\n",
       "      <td>2</td>\n",
       "      <td>443.4228</td>\n",
       "    </tr>\n",
       "    <tr>\n",
       "      <th>2</th>\n",
       "      <td>662</td>\n",
       "      <td>17.50</td>\n",
       "      <td>1</td>\n",
       "      <td>0.016760</td>\n",
       "      <td>10</td>\n",
       "      <td>141.6180</td>\n",
       "      <td>9</td>\n",
       "      <td>1999</td>\n",
       "      <td>1</td>\n",
       "      <td>0</td>\n",
       "      <td>1</td>\n",
       "      <td>2097.2700</td>\n",
       "    </tr>\n",
       "    <tr>\n",
       "      <th>3</th>\n",
       "      <td>1121</td>\n",
       "      <td>19.20</td>\n",
       "      <td>2</td>\n",
       "      <td>0.000000</td>\n",
       "      <td>6</td>\n",
       "      <td>182.0950</td>\n",
       "      <td>0</td>\n",
       "      <td>1998</td>\n",
       "      <td>2</td>\n",
       "      <td>2</td>\n",
       "      <td>0</td>\n",
       "      <td>732.3800</td>\n",
       "    </tr>\n",
       "    <tr>\n",
       "      <th>4</th>\n",
       "      <td>1297</td>\n",
       "      <td>8.93</td>\n",
       "      <td>1</td>\n",
       "      <td>0.000000</td>\n",
       "      <td>9</td>\n",
       "      <td>53.8614</td>\n",
       "      <td>1</td>\n",
       "      <td>1987</td>\n",
       "      <td>0</td>\n",
       "      <td>2</td>\n",
       "      <td>1</td>\n",
       "      <td>994.7052</td>\n",
       "    </tr>\n",
       "  </tbody>\n",
       "</table>\n",
       "</div>"
      ],
      "text/plain": [
       "   Item_Identifier  Item_Weight  ...  Outlet_Type  Item_Outlet_Sales\n",
       "0              156         9.30  ...            1          3735.1380\n",
       "1                8         5.92  ...            2           443.4228\n",
       "2              662        17.50  ...            1          2097.2700\n",
       "3             1121        19.20  ...            0           732.3800\n",
       "4             1297         8.93  ...            1           994.7052\n",
       "\n",
       "[5 rows x 12 columns]"
      ]
     },
     "execution_count": 192,
     "metadata": {},
     "output_type": "execute_result"
    }
   ],
   "source": [
    "sale_data.head()"
   ]
  },
  {
   "cell_type": "markdown",
   "id": "5cb6679a",
   "metadata": {},
   "source": [
    "## Splitting the data into Features and Traget"
   ]
  },
  {
   "cell_type": "code",
   "execution_count": null,
   "id": "0bbf56d8",
   "metadata": {},
   "outputs": [],
   "source": [
    "X=sale_data.drop(columns='Item_Outlet_Sales', axis=1)\n",
    "Y=sale_data['Item_Outlet_Sales']"
   ]
  },
  {
   "cell_type": "code",
   "execution_count": null,
   "id": "b0379c91",
   "metadata": {},
   "outputs": [],
   "source": [
    "#Splitting Data into Trainging and Testing Data\n",
    "\n",
    "X_train, X_test, Y_train, Y_test= train_test_split(X,Y, test_size=0.2, random_state=2)"
   ]
  },
  {
   "cell_type": "code",
   "execution_count": null,
   "id": "c4241b9e",
   "metadata": {},
   "outputs": [
    {
     "name": "stdout",
     "output_type": "stream",
     "text": [
      "(8523, 11) (6818, 11) (1705, 11)\n"
     ]
    }
   ],
   "source": [
    "print(X.shape, X_train.shape, X_test.shape)"
   ]
  },
  {
   "cell_type": "markdown",
   "id": "d5d4f617",
   "metadata": {},
   "source": [
    "**Training the Model usinf Training Data**"
   ]
  },
  {
   "cell_type": "code",
   "execution_count": null,
   "id": "80b96390",
   "metadata": {},
   "outputs": [],
   "source": []
  }
 ],
 "metadata": {
  "kernelspec": {
   "display_name": "Python 3",
   "language": "python",
   "name": "python3"
  },
  "language_info": {
   "codemirror_mode": {
    "name": "ipython",
    "version": 3
   },
   "file_extension": ".py",
   "mimetype": "text/x-python",
   "name": "python",
   "nbconvert_exporter": "python",
   "pygments_lexer": "ipython3",
   "version": "3.13.4"
  }
 },
 "nbformat": 4,
 "nbformat_minor": 5
}
